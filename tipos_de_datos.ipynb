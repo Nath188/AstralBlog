{
  "nbformat": 4,
  "nbformat_minor": 0,
  "metadata": {
    "colab": {
      "provenance": [],
      "authorship_tag": "ABX9TyOdxoz7TCfJUg+Z+zQyFWto",
      "include_colab_link": true
    },
    "kernelspec": {
      "name": "python3",
      "display_name": "Python 3"
    },
    "language_info": {
      "name": "python"
    }
  },
  "cells": [
    {
      "cell_type": "markdown",
      "metadata": {
        "id": "view-in-github",
        "colab_type": "text"
      },
      "source": [
        "<a href=\"https://colab.research.google.com/github/Nath188/AstralBlog/blob/main/tipos_de_datos.ipynb\" target=\"_parent\"><img src=\"https://colab.research.google.com/assets/colab-badge.svg\" alt=\"Open In Colab\"/></a>"
      ]
    },
    {
      "cell_type": "code",
      "execution_count": 11,
      "metadata": {
        "colab": {
          "base_uri": "https://localhost:8080/"
        },
        "id": "Xiw3OoNdN4B4",
        "outputId": "cea859d8-1967-4e9b-d4f3-a73c1c9024aa"
      },
      "outputs": [
        {
          "output_type": "execute_result",
          "data": {
            "text/plain": [
              "array([1, 2, 3, 4, 5], dtype=int8)"
            ]
          },
          "metadata": {},
          "execution_count": 11
        }
      ],
      "source": [
        "import numpy as np\n",
        "arr = np.array([1, 2, 3, 4, 5 ])\n",
        "arr\n",
        "arr = np.array([1, 2, 3, 4, 5], dtype ='float64')\n",
        "arr.dtype\n",
        "arr\n",
        "arr = np.array([1, 2, 3, 4, 5 ])\n",
        "arr = arr.astype(np.bool_)\n",
        "arr\n",
        "arr = np.array([1, 2, 3, 4, 5 ])\n",
        "arr = arr.astype(np.string_)\n",
        "arr\n",
        "arr = np.array(['1','2', '3', '4', '5' ])\n",
        "arr = arr.astype(np.int8)\n",
        "arr\n",
        "\n",
        "\n"
      ]
    }
  ]
}